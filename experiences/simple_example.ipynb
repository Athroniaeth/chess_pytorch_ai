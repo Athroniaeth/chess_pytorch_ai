{
 "cells": [
  {
   "cell_type": "code",
   "id": "initial_id",
   "metadata": {
    "collapsed": true,
    "ExecuteTime": {
     "end_time": "2024-06-15T01:54:21.524107Z",
     "start_time": "2024-06-15T01:54:20.814396Z"
    }
   },
   "source": [
    "import polars\n",
    "\n",
    "max_length = 10_000\n",
    "dataframe = polars.read_csv('../data/chessData.csv')\n",
    "dataframe = dataframe.sample(shuffle=True, seed=42, n=max_length)\n",
    "print(dataframe.head())"
   ],
   "outputs": [
    {
     "name": "stdout",
     "output_type": "stream",
     "text": [
      "shape: (5, 2)\n",
      "┌─────────────────────────────────┬────────────┐\n",
      "│ FEN                             ┆ Evaluation │\n",
      "│ ---                             ┆ ---        │\n",
      "│ str                             ┆ str        │\n",
      "╞═════════════════════════════════╪════════════╡\n",
      "│ r1bq2k1/1p3pbp/p2p1np1/2pPr3/P… ┆ +57        │\n",
      "│ R5k1/2nbqpp1/3b1n1p/2pPp3/2P1P… ┆ +82        │\n",
      "│ rqr3k1/3npp2/3p2p1/1N1P3p/P1pR… ┆ +116       │\n",
      "│ 8/5pp1/k5p1/1pK5/8/7P/5PP1/8 w… ┆ -317       │\n",
      "│ 3r2k1/5p1p/1RN1p3/5nP1/1p6/2b1… ┆ +46        │\n",
      "└─────────────────────────────────┴────────────┘\n"
     ]
    }
   ],
   "execution_count": 1
  },
  {
   "metadata": {
    "ExecuteTime": {
     "end_time": "2024-06-15T01:54:21.720911Z",
     "start_time": "2024-06-15T01:54:21.525643Z"
    }
   },
   "cell_type": "code",
   "source": [
    "import numpy\n",
    "from typing import Generator, Tuple\n",
    "import itertools\n",
    "import chess\n",
    "\n",
    "ProductPiece = Tuple[chess.PieceType, chess.Color]\n",
    "\n",
    "def generator_pieces() -> Generator[ProductPiece, None, None]:\n",
    "    return itertools.product(chess.PIECE_TYPES, chess.COLORS)\n",
    "\n",
    "def tokenize_fen(fen: str):\n",
    "    board = chess.Board(fen=fen)\n",
    "    board_array = numpy.array([], ndmin=2)\n",
    "\n",
    "    for piece_type, color in generator_pieces():\n",
    "        # Obtiens les pièces du plateau\n",
    "        square_set = board.pieces(piece_type, color)\n",
    "\n",
    "        # Crée un masque (numpy va inverser les axes, donc on utilise mirror)\n",
    "        mask = square_set.mirror().tolist()\n",
    "\n",
    "        # Convertit le masque en tableau numpy et en one-hot\n",
    "        piece_array = numpy.array(mask).astype(int)\n",
    "\n",
    "        # Ajoute le tableau de pièces au tableau de plateau\n",
    "        board_array = numpy.append(board_array, piece_array)\n",
    "    \n",
    "    board_array = board_array.astype(numpy.uint8)\n",
    "    return tuple(board_array)"
   ],
   "id": "bfdafbaf4a4a24fd",
   "outputs": [],
   "execution_count": 2
  },
  {
   "metadata": {
    "ExecuteTime": {
     "end_time": "2024-06-15T01:54:21.727466Z",
     "start_time": "2024-06-15T01:54:21.721426Z"
    }
   },
   "cell_type": "code",
   "source": [
    "start_pos = \"rnbqkbnr/pppppppp/8/8/8/8/PPPPPPPP/RNBQKBNR w KQkq - 0 1\"\n",
    "result = tokenize_fen(start_pos)\n",
    "print(len(result))\n",
    "print(sum(result))\n",
    "\n",
    "print(sum(result[:64]))  # white pawn\n",
    "print(sum(result[64:128]))  # black pawn\n",
    "\n",
    "print(sum(result[-128:-64]))  # white king\n",
    "print(sum(result[-64:]))  # black king"
   ],
   "id": "756c366ced9e6cea",
   "outputs": [
    {
     "name": "stdout",
     "output_type": "stream",
     "text": [
      "768\n",
      "32\n",
      "8\n",
      "8\n",
      "1\n",
      "1\n"
     ]
    }
   ],
   "execution_count": 3
  },
  {
   "metadata": {
    "ExecuteTime": {
     "end_time": "2024-06-15T01:54:24.689796Z",
     "start_time": "2024-06-15T01:54:21.728520Z"
    }
   },
   "cell_type": "code",
   "source": [
    "fen_column = \"FEN\"\n",
    "score_column = \"Evaluation\"\n",
    "\n",
    "expression = polars.col(fen_column).map_elements(tokenize_fen, return_dtype=polars.List(polars.UInt8))\n",
    "preprocess_df = dataframe.with_columns(expression)\n",
    "\n",
    "# Filtrer les lignes où la colonne ne contient pas '#-'\n",
    "filtered_df = preprocess_df.filter(~polars.col(score_column).str.contains('#-'))\n",
    "filtered_df = filtered_df.filter(~polars.col(score_column).str.contains('#+'))\n",
    "\n",
    "# Convertir la colonne en entier\n",
    "filtered_df = filtered_df.with_columns(polars.col(score_column).cast(polars.Int16))\n",
    "\n",
    "min_value = filtered_df[score_column].min()\n",
    "max_value = filtered_df[score_column].max()\n",
    "\n",
    "print(f\"Min value : '{min_value:.2f}  -  Max value : {max_value:.2f}\")\n",
    "\n",
    "# Le dataset contient '#+0' ou '#-0' dans score quand il y'a un mat, on remplace par le maximum de la couleur\n",
    "expression = (\n",
    "    polars\n",
    "    .when(polars.col(score_column).str.contains('#+'))\n",
    "    .then(polars.lit(f'{max_value}'))\n",
    "\n",
    "    .when(polars.col(score_column).str.contains('#-'))\n",
    "    .then(polars.lit(f'{min_value}'))\n",
    "\n",
    "    .otherwise(polars.col(score_column))\n",
    "    .alias(score_column))\n",
    "\n",
    "preprocess_df = preprocess_df.with_columns(expression)\n",
    "\n",
    "# Convertit le dtype string de 'score' en dtype float\n",
    "expression = polars.col(score_column).cast(polars.Int16)\n",
    "preprocess_df = preprocess_df.with_columns(expression)\n",
    "\n",
    "# Ré-équilibre le dataset \n",
    "expression = polars.col(score_column).ne(0)\n",
    "preprocess_df = preprocess_df.filter(expression)\n",
    "\n",
    "\n",
    "# Si une valeur dépasse 2000 ou -2000, le remplace par 2000 ou -2000\n",
    "# expression = polars.col(score_column).clip(-2000, 2000)\n",
    "# preprocess_df = preprocess_df.with_columns(expression)\n",
    "\n",
    "# Renomme les colonnes en 'fen' et 'score'\n",
    "preprocess_df = preprocess_df.rename({fen_column: 'fen', score_column: 'score'})"
   ],
   "id": "a6cb2b783923870a",
   "outputs": [
    {
     "name": "stdout",
     "output_type": "stream",
     "text": [
      "Min value : '-7918.00  -  Max value : 7224.00\n"
     ]
    }
   ],
   "execution_count": 4
  },
  {
   "metadata": {
    "ExecuteTime": {
     "end_time": "2024-06-15T01:54:24.696140Z",
     "start_time": "2024-06-15T01:54:24.691805Z"
    }
   },
   "cell_type": "code",
   "source": "print(preprocess_df.head())",
   "id": "5c39ebc52ff375a4",
   "outputs": [
    {
     "name": "stdout",
     "output_type": "stream",
     "text": [
      "shape: (5, 2)\n",
      "┌─────────────┬───────┐\n",
      "│ fen         ┆ score │\n",
      "│ ---         ┆ ---   │\n",
      "│ list[u8]    ┆ i16   │\n",
      "╞═════════════╪═══════╡\n",
      "│ [0, 0, … 0] ┆ 57    │\n",
      "│ [0, 0, … 0] ┆ 82    │\n",
      "│ [0, 0, … 0] ┆ 116   │\n",
      "│ [0, 0, … 0] ┆ -317  │\n",
      "│ [0, 0, … 0] ┆ 46    │\n",
      "└─────────────┴───────┘\n"
     ]
    }
   ],
   "execution_count": 5
  },
  {
   "metadata": {
    "ExecuteTime": {
     "end_time": "2024-06-15T01:54:27.436465Z",
     "start_time": "2024-06-15T01:54:24.697174Z"
    }
   },
   "cell_type": "code",
   "source": [
    "import torch\n",
    "from torch.utils.data import Dataset\n",
    "from matplotlib import pyplot as plt\n",
    "\n",
    "\n",
    "class ChessDataset(Dataset):\n",
    "    def __init__(self, preprocess_df: polars.DataFrame):\n",
    "        self.dataframe = preprocess_df\n",
    "\n",
    "    def __getitem__(self, index: int):\n",
    "        # Récupère la FEN et le score\n",
    "        array = self.dataframe['fen'][index]\n",
    "        score = self.dataframe['score'][index]\n",
    "\n",
    "        # Convertit le tableau numpy en tenseur PyTorch\n",
    "        tensor_array = torch.tensor(array, dtype=torch.float32)\n",
    "        tensor_score = torch.tensor(score, dtype=torch.float32)\n",
    "\n",
    "        return tensor_array, tensor_score\n",
    "\n",
    "    def __len__(self):\n",
    "        return len(self.dataframe)\n",
    "    \n",
    "    def hist_score(self, bins: int = 51):\n",
    "        \"\"\"\n",
    "        Affiche un histogramme de la colonne 'score'.\n",
    "\n",
    "        Notes:\n",
    "            Incrémente bins de 1 si celui-ci est pair, cela permet d'afficher le nombre de\n",
    "            zeros dans la colonne 'score'. En impair, nous n'avons que pour > 0 ou < 0.\n",
    "\n",
    "        Args:\n",
    "            bins (int): Nombre de \"bacs\" pour l'histogramme. Defaults to 51.\n",
    "\n",
    "        Returns:\n",
    "            None\n",
    "        \"\"\"\n",
    "        # Si le nombre de bacs est pair, on l'incrémente de 1\n",
    "        bins = bins + 1 if bins % 2 == 0 else bins\n",
    "\n",
    "        # Créer un histogramme de la colonne 'score'\n",
    "        plt.hist(self.dataframe['score'], bins=bins)\n",
    "\n",
    "        # Ajouter des étiquettes et un titre\n",
    "        plt.xlabel('Valeur')\n",
    "        plt.ylabel('Fréquence')\n",
    "        plt.title('Distribution de la colonne \"score\"')\n",
    "\n",
    "        # Afficher le graphique\n",
    "        plt.show()"
   ],
   "id": "e83da124cbb95bc5",
   "outputs": [],
   "execution_count": 6
  },
  {
   "metadata": {
    "ExecuteTime": {
     "end_time": "2024-06-15T01:54:27.444196Z",
     "start_time": "2024-06-15T01:54:27.437927Z"
    }
   },
   "cell_type": "code",
   "source": [
    "from torch import nn\n",
    "\n",
    "\n",
    "class ChessModel(nn.Module):\n",
    "    def __init__(self, input_size: int = 768):\n",
    "        super(ChessModel, self).__init__()\n",
    "\n",
    "        self.linear_1 = nn.Linear(input_size, 2048)\n",
    "        self.linear_2 = nn.Linear(2048, 1024)\n",
    "        self.linear_3 = nn.Linear(1024, 512)\n",
    "        self.linear_4 = nn.Linear(512, 256)\n",
    "        self.linear_5 = nn.Linear(256, 1)\n",
    "\n",
    "        self.relu = nn.ReLU()\n",
    "\n",
    "    def forward(self, x: torch.Tensor) -> torch.Tensor:\n",
    "        _x = self.relu(self.linear_1(x))\n",
    "        _x = self.relu(self.linear_2(_x))\n",
    "        _x = self.relu(self.linear_3(_x))\n",
    "        _x = self.relu(self.linear_4(_x))\n",
    "        _x = self.linear_5(_x)\n",
    "        return _x\n",
    "\n",
    "    @property\n",
    "    def device(self) -> torch.device:\n",
    "        return next(self.parameters()).device"
   ],
   "id": "2be33ecd57a472cc",
   "outputs": [],
   "execution_count": 7
  },
  {
   "metadata": {
    "ExecuteTime": {
     "end_time": "2024-06-15T01:54:28.393339Z",
     "start_time": "2024-06-15T01:54:27.445721Z"
    }
   },
   "cell_type": "code",
   "source": [
    "from torchmetrics import MeanAbsoluteError\n",
    "from typing import Literal\n",
    "from src.train import train_model\n",
    "from src.dataset import split_dataset\n",
    "\n",
    "# Autres paramètres\n",
    "device: Literal['cpu', 'cuda'] = 'cuda'\n",
    "\n",
    "# Paramètres du dataset\n",
    "batch_size: int = 256\n",
    "random_seed: int = 42\n",
    "ratio_tests: float = 0.2\n",
    "ratio_validation: float = 0.2\n",
    "\n",
    "# Paramètres du modèle (apprentissage)\n",
    "num_epochs: int = 100\n",
    "lr: float = 1e-3\n",
    "\n",
    "# Paramètres du scheduler_lr (apprentissage)\n",
    "start_factor: float = 1.0\n",
    "end_factor: float = 0.01\n",
    "total_iters: int = 20\n",
    "\n",
    "metric = MeanAbsoluteError"
   ],
   "id": "8103554c4f963a19",
   "outputs": [],
   "execution_count": 8
  },
  {
   "metadata": {
    "ExecuteTime": {
     "end_time": "2024-06-15T01:54:28.694411Z",
     "start_time": "2024-06-15T01:54:28.394359Z"
    }
   },
   "cell_type": "code",
   "source": [
    "model = ChessModel()\n",
    "dataset = ChessDataset(preprocess_df=preprocess_df)\n",
    "dataset.hist_score(bins=201)\n",
    "print(preprocess_df.get_column('score').value_counts().sort(\"count\"))"
   ],
   "id": "24e3abe06562d7aa",
   "outputs": [
    {
     "data": {
      "text/plain": [
       "<Figure size 640x480 with 1 Axes>"
      ],
      "image/png": "[encoded data removed]"
     },
     "metadata": {},
     "output_type": "display_data"
    },
    {
     "name": "stdout",
     "output_type": "stream",
     "text": [
      "shape: (1_897, 2)\n",
      "┌───────┬───────┐\n",
      "│ score ┆ count │\n",
      "│ ---   ┆ ---   │\n",
      "│ i16   ┆ u32   │\n",
      "╞═══════╪═══════╡\n",
      "│ 1718  ┆ 1     │\n",
      "│ -2040 ┆ 1     │\n",
      "│ -966  ┆ 1     │\n",
      "│ -385  ┆ 1     │\n",
      "│ 697   ┆ 1     │\n",
      "│ …     ┆ …     │\n",
      "│ 61    ┆ 36    │\n",
      "│ 23    ┆ 38    │\n",
      "│ 13    ┆ 126   │\n",
      "│ -13   ┆ 134   │\n",
      "│ 7224  ┆ 137   │\n",
      "└───────┴───────┘\n"
     ]
    }
   ],
   "execution_count": 9
  },
  {
   "metadata": {
    "ExecuteTime": {
     "end_time": "2024-06-15T01:54:29.370866Z",
     "start_time": "2024-06-15T01:54:28.695416Z"
    }
   },
   "cell_type": "code",
   "source": [
    "import polars \n",
    "import numpy as np\n",
    "import matplotlib.pyplot as plt\n",
    "\n",
    "\n",
    "def rebalance_dataframe(df: polars.DataFrame, column: str):\n",
    "    # Calcul de la moyenne et de l'écart type de la colonne\n",
    "    mean = df[column].mean()\n",
    "    std = df[column].std()\n",
    "\n",
    "    # Sous-échantillonnage des valeurs autour de la moyenne\n",
    "    lower_bound = mean - std\n",
    "    upper_bound = mean + std\n",
    "    \n",
    "    # Filtrons les valeurs autour de la moyenne\n",
    "    subset_mean = df.filter((df[column] >= lower_bound) & (df[column] <= upper_bound))\n",
    "\n",
    "    # Prenons un sous-échantillon aléatoire de ce subset\n",
    "    subset_mean_sampled = subset_mean.sample(fraction=0.5)\n",
    "    \n",
    "    # Sur-échantillonnage des valeurs extrêmes\n",
    "    extreme_threshold = 2 * std\n",
    "\n",
    "    # Filtrons les valeurs extrêmes\n",
    "    extremes = df.filter((df[column] < mean - extreme_threshold) | (df[column] > mean + extreme_threshold))\n",
    "\n",
    "    # Dupliquons les valeurs extrêmes (par exemple, les tripler)\n",
    "    extremes_oversampled = polars.concat([extremes]*3)\n",
    "    \n",
    "    # Combinons les deux DataFrames pour obtenir le résultat final\n",
    "    result = polars.concat([subset_mean_sampled, extremes_oversampled])\n",
    "    \n",
    "    return result\n",
    "\n",
    "# Fonction pour tracer les histogrammes\n",
    "def plot_histogram(df_before, df_after, column, bins=30):\n",
    "    fig, axs = plt.subplots(1, 2, figsize=(14, 6), sharey=True)\n",
    "    \n",
    "    # Avant le rééchantillonnage\n",
    "    axs[0].hist(df_before[column].to_numpy(), bins=bins, color='blue', alpha=0.7, edgecolor='black')\n",
    "    axs[0].set_title(\"Avant le rééchantillonnage\")\n",
    "    axs[0].set_xlabel(column)\n",
    "    axs[0].set_ylabel(\"Fréquence\")\n",
    "    \n",
    "    # Après le rééchantillonnage\n",
    "    axs[1].hist(df_after[column].to_numpy(), bins=bins, color='red', alpha=0.7, edgecolor='black')\n",
    "    axs[1].set_title(\"Après le rééchantillonnage\")\n",
    "    axs[1].set_xlabel(column)\n",
    "    \n",
    "    plt.tight_layout()\n",
    "    plt.show()\n",
    "\n",
    "clean_df = rebalance_dataframe(preprocess_df, 'score')\n",
    "\n",
    "# Affichage des histogrammes avant et après le rééchantillonnage\n",
    "plot_histogram(preprocess_df, clean_df, 'score', bins=200)\n"
   ],
   "id": "78e1559a9542b533",
   "outputs": [
    {
     "data": {
      "text/plain": [
       "<Figure size 1400x600 with 2 Axes>"
      ],
      "image/png": "[encoded data removed]"
     },
     "metadata": {},
     "output_type": "display_data"
    }
   ],
   "execution_count": 10
  },
  {
   "metadata": {
    "ExecuteTime": {
     "end_time": "2024-06-15T01:54:32.360276Z",
     "start_time": "2024-06-15T01:54:29.371877Z"
    }
   },
   "cell_type": "code",
   "source": [
    "list_loaders = split_dataset(\n",
    "    dataset=dataset,\n",
    "    batch_size=batch_size,\n",
    "    shuffle_dataset=False,\n",
    "    random_seed=random_seed,\n",
    "    ratio_tests=ratio_tests,\n",
    "    ratio_validation=ratio_validation\n",
    ")\n",
    "\n",
    "train_loader, tests_loader, validation_loader = list_loaders\n",
    "\n",
    "train_model(\n",
    "    device=device,\n",
    "    \n",
    "    model=model,\n",
    "    train_loader=train_loader,\n",
    "    tests_loader=tests_loader,\n",
    "    validation_loader=validation_loader,\n",
    "    \n",
    "    num_epochs=num_epochs,\n",
    "    lr=lr,\n",
    "    \n",
    "    start_factor=start_factor,\n",
    "    end_factor=end_factor,\n",
    "    total_iters=total_iters,\n",
    "    \n",
    "    metric=metric\n",
    ")"
   ],
   "id": "b0199cdda968b447",
   "outputs": [
    {
     "ename": "AttributeError",
     "evalue": "'str' object has no attribute '_apply'",
     "output_type": "error",
     "traceback": [
      "\u001B[1;31m---------------------------------------------------------------------------\u001B[0m",
      "\u001B[1;31mAttributeError\u001B[0m                            Traceback (most recent call last)",
      "Cell \u001B[1;32mIn[11], line 12\u001B[0m\n\u001B[0;32m      1\u001B[0m list_loaders \u001B[38;5;241m=\u001B[39m split_dataset(\n\u001B[0;32m      2\u001B[0m     dataset\u001B[38;5;241m=\u001B[39mdataset,\n\u001B[0;32m      3\u001B[0m     batch_size\u001B[38;5;241m=\u001B[39mbatch_size,\n\u001B[1;32m   (...)\u001B[0m\n\u001B[0;32m      7\u001B[0m     ratio_validation\u001B[38;5;241m=\u001B[39mratio_validation\n\u001B[0;32m      8\u001B[0m )\n\u001B[0;32m     10\u001B[0m train_loader, tests_loader, validation_loader \u001B[38;5;241m=\u001B[39m list_loaders\n\u001B[1;32m---> 12\u001B[0m \u001B[43mtrain_model\u001B[49m\u001B[43m(\u001B[49m\n\u001B[0;32m     13\u001B[0m \u001B[43m    \u001B[49m\u001B[43mdevice\u001B[49m\u001B[38;5;241;43m=\u001B[39;49m\u001B[43mdevice\u001B[49m\u001B[43m,\u001B[49m\n\u001B[0;32m     14\u001B[0m \u001B[43m    \u001B[49m\n\u001B[0;32m     15\u001B[0m \u001B[43m    \u001B[49m\u001B[43mmodel\u001B[49m\u001B[38;5;241;43m=\u001B[39;49m\u001B[43mmodel\u001B[49m\u001B[43m,\u001B[49m\n\u001B[0;32m     16\u001B[0m \u001B[43m    \u001B[49m\u001B[43mtrain_loader\u001B[49m\u001B[38;5;241;43m=\u001B[39;49m\u001B[43mtrain_loader\u001B[49m\u001B[43m,\u001B[49m\n\u001B[0;32m     17\u001B[0m \u001B[43m    \u001B[49m\u001B[43mtests_loader\u001B[49m\u001B[38;5;241;43m=\u001B[39;49m\u001B[43mtests_loader\u001B[49m\u001B[43m,\u001B[49m\n\u001B[0;32m     18\u001B[0m \u001B[43m    \u001B[49m\u001B[43mvalidation_loader\u001B[49m\u001B[38;5;241;43m=\u001B[39;49m\u001B[43mvalidation_loader\u001B[49m\u001B[43m,\u001B[49m\n\u001B[0;32m     19\u001B[0m \u001B[43m    \u001B[49m\n\u001B[0;32m     20\u001B[0m \u001B[43m    \u001B[49m\u001B[43mnum_epochs\u001B[49m\u001B[38;5;241;43m=\u001B[39;49m\u001B[43mnum_epochs\u001B[49m\u001B[43m,\u001B[49m\n\u001B[0;32m     21\u001B[0m \u001B[43m    \u001B[49m\u001B[43mlr\u001B[49m\u001B[38;5;241;43m=\u001B[39;49m\u001B[43mlr\u001B[49m\u001B[43m,\u001B[49m\n\u001B[0;32m     22\u001B[0m \u001B[43m    \u001B[49m\n\u001B[0;32m     23\u001B[0m \u001B[43m    \u001B[49m\u001B[43mstart_factor\u001B[49m\u001B[38;5;241;43m=\u001B[39;49m\u001B[43mstart_factor\u001B[49m\u001B[43m,\u001B[49m\n\u001B[0;32m     24\u001B[0m \u001B[43m    \u001B[49m\u001B[43mend_factor\u001B[49m\u001B[38;5;241;43m=\u001B[39;49m\u001B[43mend_factor\u001B[49m\u001B[43m,\u001B[49m\n\u001B[0;32m     25\u001B[0m \u001B[43m    \u001B[49m\u001B[43mtotal_iters\u001B[49m\u001B[38;5;241;43m=\u001B[39;49m\u001B[43mtotal_iters\u001B[49m\u001B[43m,\u001B[49m\n\u001B[0;32m     26\u001B[0m \u001B[43m    \u001B[49m\n\u001B[0;32m     27\u001B[0m \u001B[43m    \u001B[49m\u001B[43mmetric\u001B[49m\u001B[38;5;241;43m=\u001B[39;49m\u001B[43mmetric\u001B[49m\n\u001B[0;32m     28\u001B[0m \u001B[43m)\u001B[49m\n",
      "File \u001B[1;32m~\\PycharmProjects\\chess_pytorch_ai\\src\\train.py:55\u001B[0m, in \u001B[0;36mtrain_model\u001B[1;34m(model, train_loader, tests_loader, validation_loader, num_epochs, device, optimizer, metric, criterion, lr, scheduler, start_factor, end_factor, total_iters)\u001B[0m\n\u001B[0;32m     47\u001B[0m \u001B[38;5;66;03m# noinspection PyArgumentList\u001B[39;00m\n\u001B[0;32m     48\u001B[0m scheduler \u001B[38;5;241m=\u001B[39m scheduler(\n\u001B[0;32m     49\u001B[0m     optimizer\u001B[38;5;241m=\u001B[39moptimizer,\n\u001B[0;32m     50\u001B[0m     start_factor\u001B[38;5;241m=\u001B[39mstart_factor,\n\u001B[0;32m     51\u001B[0m     end_factor\u001B[38;5;241m=\u001B[39mend_factor,\n\u001B[0;32m     52\u001B[0m     total_iters\u001B[38;5;241m=\u001B[39mtotal_iters\n\u001B[0;32m     53\u001B[0m )\n\u001B[1;32m---> 55\u001B[0m metric \u001B[38;5;241m=\u001B[39m \u001B[43mmetric\u001B[49m\u001B[38;5;241;43m.\u001B[39;49m\u001B[43mto\u001B[49m\u001B[43m(\u001B[49m\u001B[43mdevice\u001B[49m\u001B[43m)\u001B[49m\n\u001B[0;32m     56\u001B[0m metric_name \u001B[38;5;241m=\u001B[39m metric\u001B[38;5;241m.\u001B[39m\u001B[38;5;18m__class__\u001B[39m\u001B[38;5;241m.\u001B[39m\u001B[38;5;18m__name__\u001B[39m\n\u001B[0;32m     58\u001B[0m \u001B[38;5;66;03m# Entraîne le modèle\u001B[39;00m\n",
      "File \u001B[1;32m~\\miniconda3\\envs\\chess_pytorch_ai\\Lib\\site-packages\\torch\\nn\\modules\\module.py:1173\u001B[0m, in \u001B[0;36mModule.to\u001B[1;34m(self, *args, **kwargs)\u001B[0m\n\u001B[0;32m   1170\u001B[0m         \u001B[38;5;28;01melse\u001B[39;00m:\n\u001B[0;32m   1171\u001B[0m             \u001B[38;5;28;01mraise\u001B[39;00m\n\u001B[1;32m-> 1173\u001B[0m \u001B[38;5;28;01mreturn\u001B[39;00m \u001B[38;5;28;43mself\u001B[39;49m\u001B[38;5;241;43m.\u001B[39;49m\u001B[43m_apply\u001B[49m(convert)\n",
      "\u001B[1;31mAttributeError\u001B[0m: 'str' object has no attribute '_apply'"
     ]
    }
   ],
   "execution_count": 11
  },
  {
   "metadata": {},
   "cell_type": "code",
   "source": [
    "from src import MODEL_PATH\n",
    "\n",
    "path = MODEL_PATH / 'model_33.pth'\n",
    "dict_model = torch.load(path, map_location='cpu')\n",
    "model = ChessModel().cpu()\n",
    "model.load_state_dict(dict_model)\n",
    "\n",
    "\n",
    "def analys_model(fen: str):\n",
    "    fen_array = tokenize_fen(fen)\n",
    "    fen_tensor = torch.tensor(fen_array, dtype=torch.float32).view(1, -1)\n",
    "    prediction = model(fen_tensor).item()\n",
    "\n",
    "    print(f\"Prédiction du modèle: {prediction:.2f}\")\n",
    "    print()\n",
    "\n",
    "\n",
    "list_fen = [\n",
    "    \"rnbqkbnr/pppppppp/8/8/8/8/PPPPPPPP/RNBQKBNR w KQkq - 0 1\",  # Position de base\n",
    "    \"r1bqkb1r/pppp1ppp/2n2n2/4p2Q/2B1P3/8/PPPP1PPP/RNB1K1NR w KQkq - 4 4\",  # Mat berger, Mat en 1 pour blanc\n",
    "    \"4k3/pppppppp/8/8/8/8/PPPPPPPP/RNBQKBNR w KQ - 0 1\",  # Noir n'ont qu'un roi\n",
    "    \"rnbqkbnr/pppppppp/8/8/8/8/PPPPPPPP/4K3 w kq - 0 1\",  # Blanc n'ont qu'un roi\n",
    "    \"r3rbk1/p4ppp/8/2Nqp3/1p1P2b1/1P3N2/P2P1PPP/2RQR1K1 w - - 1 21\"  # Position égale éloignée GMI (reputé légèrement favorable noir)\n",
    "    ]\n",
    "\n",
    "for fen in list_fen:\n",
    "    analys_model(fen)"
   ],
   "id": "576ca51824bc377d",
   "outputs": [],
   "execution_count": null
  },
  {
   "metadata": {},
   "cell_type": "code",
   "source": "",
   "id": "3568d62dd8144ebf",
   "outputs": [],
   "execution_count": null
  },
  {
   "metadata": {},
   "cell_type": "code",
   "source": "",
   "id": "1d463a27d987a900",
   "outputs": [],
   "execution_count": null
  }
 ],
 "metadata": {
  "kernelspec": {
   "display_name": "Python 3",
   "language": "python",
   "name": "python3"
  },
  "language_info": {
   "codemirror_mode": {
    "name": "ipython",
    "version": 2
   },
   "file_extension": ".py",
   "mimetype": "text/x-python",
   "name": "python",
   "nbconvert_exporter": "python",
   "pygments_lexer": "ipython2",
   "version": "2.7.6"
  }
 },
 "nbformat": 4,
 "nbformat_minor": 5
}
