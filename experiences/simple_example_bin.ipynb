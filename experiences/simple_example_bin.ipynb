{
 "cells": [
  {
   "cell_type": "code",
   "id": "initial_id",
   "metadata": {
    "collapsed": true,
    "ExecuteTime": {
     "end_time": "2024-06-20T11:18:02.728120Z",
     "start_time": "2024-06-20T11:18:01.899534Z"
    }
   },
   "source": [
    "import polars\n",
    "\n",
    "max_length = 300_000\n",
    "dataframe = polars.read_csv('../data/chessData.csv')\n",
    "dataframe = dataframe.sample(shuffle=True, seed=42, n=max_length)\n",
    "print(dataframe.head())"
   ],
   "outputs": [
    {
     "name": "stdout",
     "output_type": "stream",
     "text": [
      "shape: (5, 2)\n",
      "┌─────────────────────────────────┬────────────┐\n",
      "│ FEN                             ┆ Evaluation │\n",
      "│ ---                             ┆ ---        │\n",
      "│ str                             ┆ str        │\n",
      "╞═════════════════════════════════╪════════════╡\n",
      "│ r1bq2k1/1p3pbp/p2p1np1/2pPr3/P… ┆ +57        │\n",
      "│ R5k1/2nbqpp1/3b1n1p/2pPp3/2P1P… ┆ +82        │\n",
      "│ rqr3k1/3npp2/3p2p1/1N1P3p/P1pR… ┆ +116       │\n",
      "│ 8/5pp1/k5p1/1pK5/8/7P/5PP1/8 w… ┆ -317       │\n",
      "│ 3r2k1/5p1p/1RN1p3/5nP1/1p6/2b1… ┆ +46        │\n",
      "└─────────────────────────────────┴────────────┘\n"
     ]
    }
   ],
   "execution_count": 1
  },
  {
   "metadata": {
    "ExecuteTime": {
     "end_time": "2024-06-20T11:18:02.933830Z",
     "start_time": "2024-06-20T11:18:02.730127Z"
    }
   },
   "cell_type": "code",
   "source": [
    "import numpy\n",
    "from typing import Generator, Tuple\n",
    "import itertools\n",
    "import chess\n",
    "\n",
    "ProductPiece = Tuple[chess.PieceType, chess.Color]\n",
    "\n",
    "\n",
    "def generator_pieces() -> Generator[ProductPiece, None, None]:\n",
    "    return itertools.product(chess.PIECE_TYPES, chess.COLORS)\n",
    "\n",
    "\n",
    "def tokenize_fen(fen: str):\n",
    "    board = chess.Board(fen=fen)\n",
    "    board_array = numpy.array([], ndmin=2)\n",
    "\n",
    "    for piece_type, color in generator_pieces():\n",
    "        # Obtiens les pièces du plateau\n",
    "        square_set = board.pieces(piece_type, color)\n",
    "\n",
    "        # Crée un masque (numpy va inverser les axes, donc on utilise mirror)\n",
    "        mask = square_set.mirror().tolist()\n",
    "\n",
    "        # Convertit le masque en tableau numpy et en one-hot\n",
    "        piece_array = numpy.array(mask).astype(int)\n",
    "\n",
    "        # Ajoute le tableau de pièces au tableau de plateau\n",
    "        board_array = numpy.append(board_array, piece_array)\n",
    "\n",
    "    board_array = board_array.astype(numpy.uint8)\n",
    "    return tuple(board_array)"
   ],
   "id": "bfdafbaf4a4a24fd",
   "outputs": [],
   "execution_count": 2
  },
  {
   "metadata": {
    "ExecuteTime": {
     "end_time": "2024-06-20T11:18:02.940517Z",
     "start_time": "2024-06-20T11:18:02.934840Z"
    }
   },
   "cell_type": "code",
   "source": [
    "start_pos = \"rnbqkbnr/pppppppp/8/8/8/8/PPPPPPPP/RNBQKBNR w KQkq - 0 1\"\n",
    "result = tokenize_fen(start_pos)\n",
    "print(len(result))\n",
    "print(sum(result))\n",
    "\n",
    "print(sum(result[:64]))  # white pawn\n",
    "print(sum(result[64:128]))  # black pawn\n",
    "\n",
    "print(sum(result[-128:-64]))  # white king\n",
    "print(sum(result[-64:]))  # black king"
   ],
   "id": "756c366ced9e6cea",
   "outputs": [
    {
     "name": "stdout",
     "output_type": "stream",
     "text": [
      "768\n",
      "32\n",
      "8\n",
      "8\n",
      "1\n",
      "1\n"
     ]
    }
   ],
   "execution_count": 3
  },
  {
   "metadata": {
    "ExecuteTime": {
     "end_time": "2024-06-20T11:19:31.662764Z",
     "start_time": "2024-06-20T11:18:02.941536Z"
    }
   },
   "cell_type": "code",
   "source": [
    "fen_column = \"FEN\"\n",
    "score_column = \"Evaluation\"\n",
    "\n",
    "expression = polars.col(fen_column).map_elements(tokenize_fen, return_dtype=polars.List(polars.UInt8))\n",
    "preprocess_df = dataframe.with_columns(expression)\n",
    "\n",
    "# Filtrer les lignes où la colonne ne contient pas '#-'\n",
    "filtered_df = preprocess_df.filter(~polars.col(score_column).str.contains('#-'))\n",
    "filtered_df = filtered_df.filter(~polars.col(score_column).str.contains('#+'))\n",
    "\n",
    "# Convertir la colonne en entier\n",
    "filtered_df = filtered_df.with_columns(polars.col(score_column).cast(polars.Int16))\n",
    "\n",
    "min_value = filtered_df[score_column].min()\n",
    "max_value = filtered_df[score_column].max()\n",
    "\n",
    "print(f\"Min value : '{min_value:.2f}  -  Max value : {max_value:.2f}\")\n",
    "\n",
    "# Le dataset contient '#+0' ou '#-0' dans score quand il y'a un mat, on remplace par le maximum de la couleur\n",
    "expression = (\n",
    "    polars\n",
    "    .when(polars.col(score_column).str.contains('#+'))\n",
    "    .then(polars.lit(f'{max_value}'))\n",
    "\n",
    "    .when(polars.col(score_column).str.contains('#-'))\n",
    "    .then(polars.lit(f'{min_value}'))\n",
    "\n",
    "    .otherwise(polars.col(score_column))\n",
    "    .alias(score_column))\n",
    "\n",
    "preprocess_df = preprocess_df.with_columns(expression)\n",
    "\n",
    "# Convertit le dtype string de 'score' en dtype float\n",
    "expression = polars.col(score_column).cast(polars.Int16)\n",
    "preprocess_df = preprocess_df.with_columns(expression)\n",
    "\n",
    "# Ré-équilibre le dataset \n",
    "expression = polars.col(score_column).ne(0)\n",
    "preprocess_df = preprocess_df.filter(expression)\n",
    "\n",
    "# Si une valeur dépasse 2000 ou -2000, le remplace par 2000 ou -2000\n",
    "# expression = polars.col(score_column).clip(-2000, 2000)\n",
    "# preprocess_df = preprocess_df.with_columns(expression)\n",
    "\n",
    "conditions = (\n",
    "    polars.when(polars.col(score_column) >= 0).then(1)\n",
    "    .when((polars.col(score_column) < 0)).then(0)\n",
    ")\n",
    "# Ajouter la colonne de classification au DataFrame\n",
    "preprocess_df = preprocess_df.with_columns(conditions.alias(\"classification\"))\n",
    "\n",
    "# Renomme les colonnes en 'fen' et 'score'\n",
    "preprocess_df = preprocess_df.rename({fen_column: 'fen', score_column: 'score'})"
   ],
   "id": "a6cb2b783923870a",
   "outputs": [
    {
     "name": "stdout",
     "output_type": "stream",
     "text": [
      "Min value : '-8109.00  -  Max value : 14792.00\n"
     ]
    }
   ],
   "execution_count": 4
  },
  {
   "metadata": {
    "ExecuteTime": {
     "end_time": "2024-06-20T11:19:31.668366Z",
     "start_time": "2024-06-20T11:19:31.664770Z"
    }
   },
   "cell_type": "code",
   "source": "print(preprocess_df.head())",
   "id": "5c39ebc52ff375a4",
   "outputs": [
    {
     "name": "stdout",
     "output_type": "stream",
     "text": [
      "shape: (5, 3)\n",
      "┌─────────────┬───────┬────────────────┐\n",
      "│ fen         ┆ score ┆ classification │\n",
      "│ ---         ┆ ---   ┆ ---            │\n",
      "│ list[u8]    ┆ i16   ┆ i32            │\n",
      "╞═════════════╪═══════╪════════════════╡\n",
      "│ [0, 0, … 0] ┆ 57    ┆ 1              │\n",
      "│ [0, 0, … 0] ┆ 82    ┆ 1              │\n",
      "│ [0, 0, … 0] ┆ 116   ┆ 1              │\n",
      "│ [0, 0, … 0] ┆ -317  ┆ 0              │\n",
      "│ [0, 0, … 0] ┆ 46    ┆ 1              │\n",
      "└─────────────┴───────┴────────────────┘\n"
     ]
    }
   ],
   "execution_count": 5
  },
  {
   "metadata": {
    "ExecuteTime": {
     "end_time": "2024-06-20T11:19:34.157888Z",
     "start_time": "2024-06-20T11:19:31.669376Z"
    }
   },
   "cell_type": "code",
   "source": [
    "from matplotlib import pyplot as plt\n",
    "import torch\n",
    "from torch.utils.data import Dataset\n",
    "\n",
    "\n",
    "class ChessDataset(Dataset):\n",
    "    def __init__(self, preprocess_df: polars.DataFrame):\n",
    "        self.dataframe = preprocess_df\n",
    "\n",
    "    def __getitem__(self, index: int):\n",
    "        # Récupère la FEN et le score\n",
    "        array = self.dataframe['fen'][index]\n",
    "        _classification = self.dataframe['classification'][index]\n",
    "        classification = [0 for i in range(2)]\n",
    "        classification[_classification] = 1\n",
    "\n",
    "        # Convertit le tableau numpy en tenseur PyTorch\n",
    "        tensor_array = torch.tensor(array, dtype=torch.float32)\n",
    "        tensor_classification = torch.tensor(classification, dtype=torch.float32)\n",
    "\n",
    "        return tensor_array, tensor_classification\n",
    "\n",
    "    def __len__(self):\n",
    "        return len(self.dataframe)\n",
    "\n",
    "    def hist_score(self, bins: int = 51):\n",
    "        \"\"\"\n",
    "        Affiche un histogramme de la colonne 'score'.\n",
    "\n",
    "        Notes:\n",
    "            Incrémente bins de 1 si celui-ci est pair, cela permet d'afficher le nombre de\n",
    "            zeros dans la colonne 'score'. En impair, nous n'avons que pour > 0 ou < 0.\n",
    "\n",
    "        Args:\n",
    "            bins (int): Nombre de \"bacs\" pour l'histogramme. Defaults to 51.\n",
    "\n",
    "        Returns:\n",
    "            None\n",
    "        \"\"\"\n",
    "        # Si le nombre de bacs est pair, on l'incrémente de 1\n",
    "        bins = bins + 1 if bins % 2 == 0 else bins\n",
    "\n",
    "        # Créer un histogramme de la colonne 'score'\n",
    "        plt.hist(self.dataframe['classification'], bins=bins)\n",
    "\n",
    "        # Ajouter des étiquettes et un titre\n",
    "        plt.xlabel('Valeur')\n",
    "        plt.ylabel('Fréquence')\n",
    "        plt.title('Distribution de la colonne \"score\"')\n",
    "\n",
    "        # Afficher le graphique\n",
    "        plt.show()"
   ],
   "id": "e83da124cbb95bc5",
   "outputs": [],
   "execution_count": 6
  },
  {
   "metadata": {
    "ExecuteTime": {
     "end_time": "2024-06-20T11:27:30.794926Z",
     "start_time": "2024-06-20T11:27:30.787257Z"
    }
   },
   "cell_type": "code",
   "source": [
    "from torch import nn\n",
    "\n",
    "\n",
    "import torch\n",
    "import torch.nn as nn\n",
    "import torch.optim as optim\n",
    "\n",
    "class ChessModel(nn.Module):\n",
    "    def __init__(self, input_size: int = 768):\n",
    "        super(ChessModel, self).__init__()\n",
    "        self.linear_1 = nn.Linear(input_size, 2048)\n",
    "        self.linear_2 = nn.Linear(2048, 1024)\n",
    "        self.linear_3 = nn.Linear(1024, 512)\n",
    "        self.linear_4 = nn.Linear(512, 2)\n",
    "        self.relu = nn.ReLU()\n",
    "        self.dropout = nn.Dropout(p=0.5)\n",
    "        self.softmax = nn.Softmax(dim=1)\n",
    "\n",
    "    def forward(self, x: torch.Tensor) -> torch.Tensor:\n",
    "        _x = self.relu(self.linear_1(x))\n",
    "        _x = self.dropout(_x)\n",
    "        _x = self.relu(self.linear_2(_x))\n",
    "        _x = self.dropout(_x)\n",
    "        _x = self.relu(self.linear_3(_x))\n",
    "        _x = self.dropout(_x)\n",
    "        _x = self.softmax(self.linear_4(_x))\n",
    "        return _x\n",
    "\n",
    "    @property\n",
    "    def device(self) -> torch.device:\n",
    "        return next(self.parameters()).device"
   ],
   "id": "2be33ecd57a472cc",
   "outputs": [],
   "execution_count": 14
  },
  {
   "metadata": {
    "ExecuteTime": {
     "end_time": "2024-06-20T11:27:31.595155Z",
     "start_time": "2024-06-20T11:27:31.315236Z"
    }
   },
   "cell_type": "code",
   "source": [
    "model = ChessModel()\n",
    "dataset = ChessDataset(preprocess_df=preprocess_df)\n",
    "dataset.hist_score(bins=201)\n",
    "print(preprocess_df.get_column('classification').value_counts().sort(\"count\"))"
   ],
   "id": "24e3abe06562d7aa",
   "outputs": [
    {
     "data": {
      "text/plain": [
       "<Figure size 640x480 with 1 Axes>"
      ],
      "image/png": "[encoded data removed]"
     },
     "metadata": {},
     "output_type": "display_data"
    },
    {
     "name": "stdout",
     "output_type": "stream",
     "text": [
      "shape: (2, 2)\n",
      "┌────────────────┬────────┐\n",
      "│ classification ┆ count  │\n",
      "│ ---            ┆ ---    │\n",
      "│ i32            ┆ u32    │\n",
      "╞════════════════╪════════╡\n",
      "│ 0              ┆ 109613 │\n",
      "│ 1              ┆ 161163 │\n",
      "└────────────────┴────────┘\n"
     ]
    }
   ],
   "execution_count": 15
  },
  {
   "metadata": {
    "ExecuteTime": {
     "end_time": "2024-06-20T11:27:32.499800Z",
     "start_time": "2024-06-20T11:27:32.484260Z"
    }
   },
   "cell_type": "code",
   "source": [
    "import logging\n",
    "import statistics\n",
    "from typing import Literal, Type\n",
    "\n",
    "import torch\n",
    "from torch import nn\n",
    "from torch.nn.modules.loss import _Loss\n",
    "from torch.optim import Optimizer\n",
    "from torch.optim.lr_scheduler import LRScheduler, LinearLR\n",
    "from torch.utils.data import DataLoader\n",
    "from torchmetrics import Metric, MeanAbsoluteError\n",
    "from tqdm import tqdm\n",
    "\n",
    "from src import MODEL_PATH\n",
    "\n",
    "\n",
    "def train_model(\n",
    "        model: nn.Module,\n",
    "\n",
    "        train_loader: DataLoader,\n",
    "        tests_loader: DataLoader,\n",
    "        validation_loader: DataLoader,\n",
    "\n",
    "        num_epochs: int = 20,\n",
    "        device: Literal['cuda', 'cuda'] = 'cuda',\n",
    "\n",
    "        optimizer: Type[Optimizer] = torch.optim.Adam,\n",
    "        metric: Metric = MeanAbsoluteError,\n",
    "        criterion: _Loss = nn.MSELoss,\n",
    "\n",
    "        lr: float = 1e-4,\n",
    "\n",
    "        scheduler: Type[LRScheduler] = LinearLR,\n",
    "        start_factor: float = 1.0,\n",
    "        end_factor: float = 1e-6,\n",
    "        total_iters: int = 10\n",
    "):\n",
    "    train_score, tests_score, validation_score = 0, 0, 0\n",
    "\n",
    "    # Crée le modèle\n",
    "    model = model.to('cuda')\n",
    "    logging.info(f\"Device: {model.device}\")\n",
    "\n",
    "    # noinspection PyArgumentList\n",
    "    optimizer = optimizer(model.parameters(), lr=lr)\n",
    "\n",
    "    # noinspection PyArgumentList\n",
    "    scheduler = scheduler(\n",
    "        optimizer=optimizer,\n",
    "        start_factor=start_factor,\n",
    "        end_factor=end_factor,\n",
    "        total_iters=total_iters\n",
    "    )\n",
    "\n",
    "    metric_name = metric.__class__.__name__\n",
    "\n",
    "    # Entraîne le modèle\n",
    "    for epoch in range(num_epochs):\n",
    "        pbar = tqdm(train_loader, total=len(train_loader), leave=False)\n",
    "\n",
    "        list_loss = []\n",
    "        for x, y in pbar:\n",
    "            x = x.to(device='cuda')\n",
    "            y = y.to(device='cuda')  # Met 'y' en batch_size de 1\n",
    "\n",
    "            predictions = model(x).to(device='cuda')\n",
    "\n",
    "            loss = criterion(predictions, y).to(device='cuda')\n",
    "            optimizer.zero_grad()\n",
    "\n",
    "            loss.backward()\n",
    "            optimizer.step()\n",
    "\n",
    "            pbar.set_description(f\"Epochs: {epoch + 1}/{num_epochs}  -  Loss: {loss.item():.1e}\")\n",
    "            list_loss.append(loss.item())\n",
    "\n",
    "        scheduler.step()\n",
    "        # afficher sous forme 1e-3, 2e-3, 3e-3, etc.\n",
    "        tqdm.write(f\"Learning rate: {scheduler.get_last_lr()[0]:.1e}\")\n",
    "        train_score = check_accuracy(train_loader, model, metric)\n",
    "        tests_score = check_accuracy(tests_loader, model, metric)\n",
    "\n",
    "        avg_loss = statistics.mean(list_loss)\n",
    "        tqdm.write(f\"Epochs: {epoch + 1}/{num_epochs}  -  Loss: {avg_loss:.1e}  -  Train ({metric_name}): {train_score:.2f}  -  Tests ({metric_name}) : {tests_score:.2f}\")\n",
    "\n",
    "        # Sauvegarde le modèle\n",
    "        path = MODEL_PATH / f\"model_{epoch + 1}.pth\"\n",
    "        torch.save(model.state_dict(), path)\n",
    "\n",
    "    # Affiche les derniers scores sur tout le dataset (tout les batchs)\n",
    "    validation_score = check_accuracy(validation_loader, model, metric)\n",
    "\n",
    "    logging.info(f\"[Score global train] : {train_score:.2f}%\")\n",
    "    logging.info(f\"[Score global tests] : {tests_score:.2f}%\")\n",
    "    logging.info(f\"[Score global validation] : {validation_score:.2f}%\")\n",
    "\n",
    "\n",
    "def check_accuracy(\n",
    "        loader: DataLoader,\n",
    "        model: nn.Module,\n",
    "        metrics: Metric,\n",
    "):\n",
    "    \"\"\"\n",
    "    Fonction pour calculer la précision du modèle\n",
    "    \"\"\"\n",
    "    list_accuracy = []\n",
    "\n",
    "    # Récupère le device du modèle\n",
    "    device = model.device\n",
    "\n",
    "    with torch.no_grad():\n",
    "        for x, y in loader:\n",
    "            x = x.to(device=device)\n",
    "            y = y.to(device=device)  # Met 'y' en batch_size de 1\n",
    "\n",
    "            predictions = model(x).to(device=device)\n",
    "\n",
    "            accuracy = metrics(preds=predictions, target=y)\n",
    "            list_accuracy.append(accuracy.item())\n",
    "\n",
    "    global_accuracy = statistics.mean(list_accuracy)\n",
    "    return global_accuracy\n"
   ],
   "id": "17ac2e2e1bf3ddd3",
   "outputs": [],
   "execution_count": 16
  },
  {
   "metadata": {
    "ExecuteTime": {
     "end_time": "2024-06-20T11:41:21.498831Z",
     "start_time": "2024-06-20T11:27:33.427147Z"
    }
   },
   "cell_type": "code",
   "source": [
    "import os\n",
    "\n",
    "import torchmetrics\n",
    "from typing import Literal\n",
    "from src.dataset import split_dataset\n",
    "\n",
    "# Autres paramètres\n",
    "device: Literal['cuda', 'cuda'] = 'cuda'\n",
    "\n",
    "# Paramètres du dataset\n",
    "batch_size: int = 256\n",
    "random_seed: int = 42\n",
    "ratio_tests: float = 0.2\n",
    "ratio_validation: float = 0.2\n",
    "\n",
    "# Paramètres du modèle (apprentissage)\n",
    "num_epochs: int = 100\n",
    "lr: float = 1e-3\n",
    "\n",
    "# Paramètres du scheduler_lr (apprentissage)\n",
    "start_factor: float = 1.0\n",
    "end_factor: float = 0.01\n",
    "total_iters: int = 20\n",
    "\n",
    "metric = torchmetrics.Accuracy(task=\"binary\", num_classes=2, top_k=2).to(device)\n",
    "criterion = nn.CrossEntropyLoss()\n",
    "\n",
    "list_loaders = split_dataset(\n",
    "    dataset=dataset,\n",
    "    batch_size=batch_size,\n",
    "    shuffle_dataset=False,\n",
    "    random_seed=random_seed,\n",
    "    ratio_tests=ratio_tests,\n",
    "    ratio_validation=ratio_validation\n",
    ")\n",
    "\n",
    "train_loader, tests_loader, validation_loader = list_loaders\n",
    "import gc\n",
    "\n",
    "gc.collect()\n",
    "\n",
    "torch.cuda.empty_cache()\n",
    "os.environ['CUDA_LAUNCH_BLOCKING'] = '1'\n",
    "model = model.to(device)\n",
    "\n",
    "\n",
    "train_model(\n",
    "    device=device,\n",
    "\n",
    "    model=model,\n",
    "    train_loader=train_loader,\n",
    "    tests_loader=tests_loader,\n",
    "    validation_loader=validation_loader,\n",
    "\n",
    "    num_epochs=num_epochs,\n",
    "    lr=lr,\n",
    "\n",
    "    start_factor=start_factor,\n",
    "    end_factor=end_factor,\n",
    "    total_iters=total_iters,\n",
    "\n",
    "    metric=metric,\n",
    "    criterion=criterion,\n",
    ")"
   ],
   "id": "b0199cdda968b447",
   "outputs": [
    {
     "name": "stderr",
     "output_type": "stream",
     "text": [
      "                                                                                  \r"
     ]
    },
    {
     "name": "stdout",
     "output_type": "stream",
     "text": [
      "Learning rate: 9.5e-04\n",
      "Epochs: 1/100  -  Loss: 6.1e-01  -  Train (BinaryAccuracy): 0.72  -  Tests (BinaryAccuracy) : 0.70\n"
     ]
    },
    {
     "name": "stderr",
     "output_type": "stream",
     "text": [
      "                                                                                  \r"
     ]
    },
    {
     "name": "stdout",
     "output_type": "stream",
     "text": [
      "Learning rate: 9.0e-04\n",
      "Epochs: 2/100  -  Loss: 5.7e-01  -  Train (BinaryAccuracy): 0.75  -  Tests (BinaryAccuracy) : 0.71\n"
     ]
    },
    {
     "name": "stderr",
     "output_type": "stream",
     "text": [
      "                                                                                  \r"
     ]
    },
    {
     "name": "stdout",
     "output_type": "stream",
     "text": [
      "Learning rate: 8.5e-04\n",
      "Epochs: 3/100  -  Loss: 5.5e-01  -  Train (BinaryAccuracy): 0.77  -  Tests (BinaryAccuracy) : 0.72\n"
     ]
    },
    {
     "name": "stderr",
     "output_type": "stream",
     "text": [
      "                                                                                  \r"
     ]
    },
    {
     "name": "stdout",
     "output_type": "stream",
     "text": [
      "Learning rate: 8.0e-04\n",
      "Epochs: 4/100  -  Loss: 5.3e-01  -  Train (BinaryAccuracy): 0.79  -  Tests (BinaryAccuracy) : 0.72\n"
     ]
    },
    {
     "name": "stderr",
     "output_type": "stream",
     "text": [
      "                                                                                  \r"
     ]
    },
    {
     "name": "stdout",
     "output_type": "stream",
     "text": [
      "Learning rate: 7.5e-04\n",
      "Epochs: 5/100  -  Loss: 5.2e-01  -  Train (BinaryAccuracy): 0.80  -  Tests (BinaryAccuracy) : 0.72\n"
     ]
    },
    {
     "name": "stderr",
     "output_type": "stream",
     "text": [
      "                                                                                  \r"
     ]
    },
    {
     "name": "stdout",
     "output_type": "stream",
     "text": [
      "Learning rate: 7.0e-04\n",
      "Epochs: 6/100  -  Loss: 5.0e-01  -  Train (BinaryAccuracy): 0.82  -  Tests (BinaryAccuracy) : 0.72\n"
     ]
    },
    {
     "name": "stderr",
     "output_type": "stream",
     "text": [
      "                                                                                  \r"
     ]
    },
    {
     "name": "stdout",
     "output_type": "stream",
     "text": [
      "Learning rate: 6.5e-04\n",
      "Epochs: 7/100  -  Loss: 4.9e-01  -  Train (BinaryAccuracy): 0.83  -  Tests (BinaryAccuracy) : 0.72\n"
     ]
    },
    {
     "name": "stderr",
     "output_type": "stream",
     "text": [
      "                                                                                  \r"
     ]
    },
    {
     "name": "stdout",
     "output_type": "stream",
     "text": [
      "Learning rate: 6.0e-04\n",
      "Epochs: 8/100  -  Loss: 4.8e-01  -  Train (BinaryAccuracy): 0.84  -  Tests (BinaryAccuracy) : 0.72\n"
     ]
    },
    {
     "name": "stderr",
     "output_type": "stream",
     "text": [
      "                                                                                  \r"
     ]
    },
    {
     "name": "stdout",
     "output_type": "stream",
     "text": [
      "Learning rate: 5.5e-04\n",
      "Epochs: 9/100  -  Loss: 4.7e-01  -  Train (BinaryAccuracy): 0.85  -  Tests (BinaryAccuracy) : 0.72\n"
     ]
    },
    {
     "name": "stderr",
     "output_type": "stream",
     "text": [
      "                                                                                   \r"
     ]
    },
    {
     "name": "stdout",
     "output_type": "stream",
     "text": [
      "Learning rate: 5.1e-04\n",
      "Epochs: 10/100  -  Loss: 4.6e-01  -  Train (BinaryAccuracy): 0.86  -  Tests (BinaryAccuracy) : 0.72\n"
     ]
    },
    {
     "name": "stderr",
     "output_type": "stream",
     "text": [
      "                                                                                   \r"
     ]
    },
    {
     "name": "stdout",
     "output_type": "stream",
     "text": [
      "Learning rate: 4.6e-04\n",
      "Epochs: 11/100  -  Loss: 4.5e-01  -  Train (BinaryAccuracy): 0.87  -  Tests (BinaryAccuracy) : 0.72\n"
     ]
    },
    {
     "name": "stderr",
     "output_type": "stream",
     "text": [
      "                                                                                   \r"
     ]
    },
    {
     "name": "stdout",
     "output_type": "stream",
     "text": [
      "Learning rate: 4.1e-04\n",
      "Epochs: 12/100  -  Loss: 4.4e-01  -  Train (BinaryAccuracy): 0.87  -  Tests (BinaryAccuracy) : 0.72\n"
     ]
    },
    {
     "name": "stderr",
     "output_type": "stream",
     "text": [
      "                                                                                   \r"
     ]
    },
    {
     "name": "stdout",
     "output_type": "stream",
     "text": [
      "Learning rate: 3.6e-04\n"
     ]
    },
    {
     "ename": "KeyboardInterrupt",
     "evalue": "",
     "output_type": "error",
     "traceback": [
      "\u001B[1;31m---------------------------------------------------------------------------\u001B[0m",
      "\u001B[1;31mKeyboardInterrupt\u001B[0m                         Traceback (most recent call last)",
      "Cell \u001B[1;32mIn[17], line 47\u001B[0m\n\u001B[0;32m     43\u001B[0m os\u001B[38;5;241m.\u001B[39menviron[\u001B[38;5;124m'\u001B[39m\u001B[38;5;124mCUDA_LAUNCH_BLOCKING\u001B[39m\u001B[38;5;124m'\u001B[39m] \u001B[38;5;241m=\u001B[39m \u001B[38;5;124m'\u001B[39m\u001B[38;5;124m1\u001B[39m\u001B[38;5;124m'\u001B[39m\n\u001B[0;32m     44\u001B[0m model \u001B[38;5;241m=\u001B[39m model\u001B[38;5;241m.\u001B[39mto(device)\n\u001B[1;32m---> 47\u001B[0m \u001B[43mtrain_model\u001B[49m\u001B[43m(\u001B[49m\n\u001B[0;32m     48\u001B[0m \u001B[43m    \u001B[49m\u001B[43mdevice\u001B[49m\u001B[38;5;241;43m=\u001B[39;49m\u001B[43mdevice\u001B[49m\u001B[43m,\u001B[49m\n\u001B[0;32m     49\u001B[0m \n\u001B[0;32m     50\u001B[0m \u001B[43m    \u001B[49m\u001B[43mmodel\u001B[49m\u001B[38;5;241;43m=\u001B[39;49m\u001B[43mmodel\u001B[49m\u001B[43m,\u001B[49m\n\u001B[0;32m     51\u001B[0m \u001B[43m    \u001B[49m\u001B[43mtrain_loader\u001B[49m\u001B[38;5;241;43m=\u001B[39;49m\u001B[43mtrain_loader\u001B[49m\u001B[43m,\u001B[49m\n\u001B[0;32m     52\u001B[0m \u001B[43m    \u001B[49m\u001B[43mtests_loader\u001B[49m\u001B[38;5;241;43m=\u001B[39;49m\u001B[43mtests_loader\u001B[49m\u001B[43m,\u001B[49m\n\u001B[0;32m     53\u001B[0m \u001B[43m    \u001B[49m\u001B[43mvalidation_loader\u001B[49m\u001B[38;5;241;43m=\u001B[39;49m\u001B[43mvalidation_loader\u001B[49m\u001B[43m,\u001B[49m\n\u001B[0;32m     54\u001B[0m \n\u001B[0;32m     55\u001B[0m \u001B[43m    \u001B[49m\u001B[43mnum_epochs\u001B[49m\u001B[38;5;241;43m=\u001B[39;49m\u001B[43mnum_epochs\u001B[49m\u001B[43m,\u001B[49m\n\u001B[0;32m     56\u001B[0m \u001B[43m    \u001B[49m\u001B[43mlr\u001B[49m\u001B[38;5;241;43m=\u001B[39;49m\u001B[43mlr\u001B[49m\u001B[43m,\u001B[49m\n\u001B[0;32m     57\u001B[0m \n\u001B[0;32m     58\u001B[0m \u001B[43m    \u001B[49m\u001B[43mstart_factor\u001B[49m\u001B[38;5;241;43m=\u001B[39;49m\u001B[43mstart_factor\u001B[49m\u001B[43m,\u001B[49m\n\u001B[0;32m     59\u001B[0m \u001B[43m    \u001B[49m\u001B[43mend_factor\u001B[49m\u001B[38;5;241;43m=\u001B[39;49m\u001B[43mend_factor\u001B[49m\u001B[43m,\u001B[49m\n\u001B[0;32m     60\u001B[0m \u001B[43m    \u001B[49m\u001B[43mtotal_iters\u001B[49m\u001B[38;5;241;43m=\u001B[39;49m\u001B[43mtotal_iters\u001B[49m\u001B[43m,\u001B[49m\n\u001B[0;32m     61\u001B[0m \n\u001B[0;32m     62\u001B[0m \u001B[43m    \u001B[49m\u001B[43mmetric\u001B[49m\u001B[38;5;241;43m=\u001B[39;49m\u001B[43mmetric\u001B[49m\u001B[43m,\u001B[49m\n\u001B[0;32m     63\u001B[0m \u001B[43m    \u001B[49m\u001B[43mcriterion\u001B[49m\u001B[38;5;241;43m=\u001B[39;49m\u001B[43mcriterion\u001B[49m\u001B[43m,\u001B[49m\n\u001B[0;32m     64\u001B[0m \u001B[43m)\u001B[49m\n",
      "Cell \u001B[1;32mIn[16], line 80\u001B[0m, in \u001B[0;36mtrain_model\u001B[1;34m(model, train_loader, tests_loader, validation_loader, num_epochs, device, optimizer, metric, criterion, lr, scheduler, start_factor, end_factor, total_iters)\u001B[0m\n\u001B[0;32m     78\u001B[0m \u001B[38;5;66;03m# afficher sous forme 1e-3, 2e-3, 3e-3, etc.\u001B[39;00m\n\u001B[0;32m     79\u001B[0m tqdm\u001B[38;5;241m.\u001B[39mwrite(\u001B[38;5;124mf\u001B[39m\u001B[38;5;124m\"\u001B[39m\u001B[38;5;124mLearning rate: \u001B[39m\u001B[38;5;132;01m{\u001B[39;00mscheduler\u001B[38;5;241m.\u001B[39mget_last_lr()[\u001B[38;5;241m0\u001B[39m]\u001B[38;5;132;01m:\u001B[39;00m\u001B[38;5;124m.1e\u001B[39m\u001B[38;5;132;01m}\u001B[39;00m\u001B[38;5;124m\"\u001B[39m)\n\u001B[1;32m---> 80\u001B[0m train_score \u001B[38;5;241m=\u001B[39m \u001B[43mcheck_accuracy\u001B[49m\u001B[43m(\u001B[49m\u001B[43mtrain_loader\u001B[49m\u001B[43m,\u001B[49m\u001B[43m \u001B[49m\u001B[43mmodel\u001B[49m\u001B[43m,\u001B[49m\u001B[43m \u001B[49m\u001B[43mmetric\u001B[49m\u001B[43m)\u001B[49m\n\u001B[0;32m     81\u001B[0m tests_score \u001B[38;5;241m=\u001B[39m check_accuracy(tests_loader, model, metric)\n\u001B[0;32m     83\u001B[0m avg_loss \u001B[38;5;241m=\u001B[39m statistics\u001B[38;5;241m.\u001B[39mmean(list_loss)\n",
      "Cell \u001B[1;32mIn[16], line 112\u001B[0m, in \u001B[0;36mcheck_accuracy\u001B[1;34m(loader, model, metrics)\u001B[0m\n\u001B[0;32m    109\u001B[0m device \u001B[38;5;241m=\u001B[39m model\u001B[38;5;241m.\u001B[39mdevice\n\u001B[0;32m    111\u001B[0m \u001B[38;5;28;01mwith\u001B[39;00m torch\u001B[38;5;241m.\u001B[39mno_grad():\n\u001B[1;32m--> 112\u001B[0m \u001B[43m    \u001B[49m\u001B[38;5;28;43;01mfor\u001B[39;49;00m\u001B[43m \u001B[49m\u001B[43mx\u001B[49m\u001B[43m,\u001B[49m\u001B[43m \u001B[49m\u001B[43my\u001B[49m\u001B[43m \u001B[49m\u001B[38;5;129;43;01min\u001B[39;49;00m\u001B[43m \u001B[49m\u001B[43mloader\u001B[49m\u001B[43m:\u001B[49m\n\u001B[0;32m    113\u001B[0m \u001B[43m        \u001B[49m\u001B[43mx\u001B[49m\u001B[43m \u001B[49m\u001B[38;5;241;43m=\u001B[39;49m\u001B[43m \u001B[49m\u001B[43mx\u001B[49m\u001B[38;5;241;43m.\u001B[39;49m\u001B[43mto\u001B[49m\u001B[43m(\u001B[49m\u001B[43mdevice\u001B[49m\u001B[38;5;241;43m=\u001B[39;49m\u001B[43mdevice\u001B[49m\u001B[43m)\u001B[49m\n\u001B[0;32m    114\u001B[0m \u001B[43m        \u001B[49m\u001B[43my\u001B[49m\u001B[43m \u001B[49m\u001B[38;5;241;43m=\u001B[39;49m\u001B[43m \u001B[49m\u001B[43my\u001B[49m\u001B[38;5;241;43m.\u001B[39;49m\u001B[43mto\u001B[49m\u001B[43m(\u001B[49m\u001B[43mdevice\u001B[49m\u001B[38;5;241;43m=\u001B[39;49m\u001B[43mdevice\u001B[49m\u001B[43m)\u001B[49m\u001B[43m  \u001B[49m\u001B[38;5;66;43;03m# Met 'y' en batch_size de 1\u001B[39;49;00m\n",
      "File \u001B[1;32m~\\miniconda3\\envs\\chess_pytorch_ai\\Lib\\site-packages\\torch\\utils\\data\\dataloader.py:631\u001B[0m, in \u001B[0;36m_BaseDataLoaderIter.__next__\u001B[1;34m(self)\u001B[0m\n\u001B[0;32m    628\u001B[0m \u001B[38;5;28;01mif\u001B[39;00m \u001B[38;5;28mself\u001B[39m\u001B[38;5;241m.\u001B[39m_sampler_iter \u001B[38;5;129;01mis\u001B[39;00m \u001B[38;5;28;01mNone\u001B[39;00m:\n\u001B[0;32m    629\u001B[0m     \u001B[38;5;66;03m# TODO(https://github.com/pytorch/pytorch/issues/76750)\u001B[39;00m\n\u001B[0;32m    630\u001B[0m     \u001B[38;5;28mself\u001B[39m\u001B[38;5;241m.\u001B[39m_reset()  \u001B[38;5;66;03m# type: ignore[call-arg]\u001B[39;00m\n\u001B[1;32m--> 631\u001B[0m data \u001B[38;5;241m=\u001B[39m \u001B[38;5;28;43mself\u001B[39;49m\u001B[38;5;241;43m.\u001B[39;49m\u001B[43m_next_data\u001B[49m\u001B[43m(\u001B[49m\u001B[43m)\u001B[49m\n\u001B[0;32m    632\u001B[0m \u001B[38;5;28mself\u001B[39m\u001B[38;5;241m.\u001B[39m_num_yielded \u001B[38;5;241m+\u001B[39m\u001B[38;5;241m=\u001B[39m \u001B[38;5;241m1\u001B[39m\n\u001B[0;32m    633\u001B[0m \u001B[38;5;28;01mif\u001B[39;00m \u001B[38;5;28mself\u001B[39m\u001B[38;5;241m.\u001B[39m_dataset_kind \u001B[38;5;241m==\u001B[39m _DatasetKind\u001B[38;5;241m.\u001B[39mIterable \u001B[38;5;129;01mand\u001B[39;00m \\\n\u001B[0;32m    634\u001B[0m         \u001B[38;5;28mself\u001B[39m\u001B[38;5;241m.\u001B[39m_IterableDataset_len_called \u001B[38;5;129;01mis\u001B[39;00m \u001B[38;5;129;01mnot\u001B[39;00m \u001B[38;5;28;01mNone\u001B[39;00m \u001B[38;5;129;01mand\u001B[39;00m \\\n\u001B[0;32m    635\u001B[0m         \u001B[38;5;28mself\u001B[39m\u001B[38;5;241m.\u001B[39m_num_yielded \u001B[38;5;241m>\u001B[39m \u001B[38;5;28mself\u001B[39m\u001B[38;5;241m.\u001B[39m_IterableDataset_len_called:\n",
      "File \u001B[1;32m~\\miniconda3\\envs\\chess_pytorch_ai\\Lib\\site-packages\\torch\\utils\\data\\dataloader.py:675\u001B[0m, in \u001B[0;36m_SingleProcessDataLoaderIter._next_data\u001B[1;34m(self)\u001B[0m\n\u001B[0;32m    673\u001B[0m \u001B[38;5;28;01mdef\u001B[39;00m \u001B[38;5;21m_next_data\u001B[39m(\u001B[38;5;28mself\u001B[39m):\n\u001B[0;32m    674\u001B[0m     index \u001B[38;5;241m=\u001B[39m \u001B[38;5;28mself\u001B[39m\u001B[38;5;241m.\u001B[39m_next_index()  \u001B[38;5;66;03m# may raise StopIteration\u001B[39;00m\n\u001B[1;32m--> 675\u001B[0m     data \u001B[38;5;241m=\u001B[39m \u001B[38;5;28;43mself\u001B[39;49m\u001B[38;5;241;43m.\u001B[39;49m\u001B[43m_dataset_fetcher\u001B[49m\u001B[38;5;241;43m.\u001B[39;49m\u001B[43mfetch\u001B[49m\u001B[43m(\u001B[49m\u001B[43mindex\u001B[49m\u001B[43m)\u001B[49m  \u001B[38;5;66;03m# may raise StopIteration\u001B[39;00m\n\u001B[0;32m    676\u001B[0m     \u001B[38;5;28;01mif\u001B[39;00m \u001B[38;5;28mself\u001B[39m\u001B[38;5;241m.\u001B[39m_pin_memory:\n\u001B[0;32m    677\u001B[0m         data \u001B[38;5;241m=\u001B[39m _utils\u001B[38;5;241m.\u001B[39mpin_memory\u001B[38;5;241m.\u001B[39mpin_memory(data, \u001B[38;5;28mself\u001B[39m\u001B[38;5;241m.\u001B[39m_pin_memory_device)\n",
      "File \u001B[1;32m~\\miniconda3\\envs\\chess_pytorch_ai\\Lib\\site-packages\\torch\\utils\\data\\_utils\\fetch.py:54\u001B[0m, in \u001B[0;36m_MapDatasetFetcher.fetch\u001B[1;34m(self, possibly_batched_index)\u001B[0m\n\u001B[0;32m     52\u001B[0m \u001B[38;5;28;01melse\u001B[39;00m:\n\u001B[0;32m     53\u001B[0m     data \u001B[38;5;241m=\u001B[39m \u001B[38;5;28mself\u001B[39m\u001B[38;5;241m.\u001B[39mdataset[possibly_batched_index]\n\u001B[1;32m---> 54\u001B[0m \u001B[38;5;28;01mreturn\u001B[39;00m \u001B[38;5;28;43mself\u001B[39;49m\u001B[38;5;241;43m.\u001B[39;49m\u001B[43mcollate_fn\u001B[49m\u001B[43m(\u001B[49m\u001B[43mdata\u001B[49m\u001B[43m)\u001B[49m\n",
      "File \u001B[1;32m~\\miniconda3\\envs\\chess_pytorch_ai\\Lib\\site-packages\\torch\\utils\\data\\_utils\\collate.py:316\u001B[0m, in \u001B[0;36mdefault_collate\u001B[1;34m(batch)\u001B[0m\n\u001B[0;32m    255\u001B[0m \u001B[38;5;28;01mdef\u001B[39;00m \u001B[38;5;21mdefault_collate\u001B[39m(batch):\n\u001B[0;32m    256\u001B[0m \u001B[38;5;250m    \u001B[39m\u001B[38;5;124mr\u001B[39m\u001B[38;5;124;03m\"\"\"\u001B[39;00m\n\u001B[0;32m    257\u001B[0m \u001B[38;5;124;03m    Take in a batch of data and put the elements within the batch into a tensor with an additional outer dimension - batch size.\u001B[39;00m\n\u001B[0;32m    258\u001B[0m \n\u001B[1;32m   (...)\u001B[0m\n\u001B[0;32m    314\u001B[0m \u001B[38;5;124;03m        >>> default_collate(batch)  # Handle `CustomType` automatically\u001B[39;00m\n\u001B[0;32m    315\u001B[0m \u001B[38;5;124;03m    \"\"\"\u001B[39;00m\n\u001B[1;32m--> 316\u001B[0m     \u001B[38;5;28;01mreturn\u001B[39;00m \u001B[43mcollate\u001B[49m\u001B[43m(\u001B[49m\u001B[43mbatch\u001B[49m\u001B[43m,\u001B[49m\u001B[43m \u001B[49m\u001B[43mcollate_fn_map\u001B[49m\u001B[38;5;241;43m=\u001B[39;49m\u001B[43mdefault_collate_fn_map\u001B[49m\u001B[43m)\u001B[49m\n",
      "File \u001B[1;32m~\\miniconda3\\envs\\chess_pytorch_ai\\Lib\\site-packages\\torch\\utils\\data\\_utils\\collate.py:173\u001B[0m, in \u001B[0;36mcollate\u001B[1;34m(batch, collate_fn_map)\u001B[0m\n\u001B[0;32m    170\u001B[0m transposed \u001B[38;5;241m=\u001B[39m \u001B[38;5;28mlist\u001B[39m(\u001B[38;5;28mzip\u001B[39m(\u001B[38;5;241m*\u001B[39mbatch))  \u001B[38;5;66;03m# It may be accessed twice, so we use a list.\u001B[39;00m\n\u001B[0;32m    172\u001B[0m \u001B[38;5;28;01mif\u001B[39;00m \u001B[38;5;28misinstance\u001B[39m(elem, \u001B[38;5;28mtuple\u001B[39m):\n\u001B[1;32m--> 173\u001B[0m     \u001B[38;5;28;01mreturn\u001B[39;00m \u001B[43m[\u001B[49m\u001B[43mcollate\u001B[49m\u001B[43m(\u001B[49m\u001B[43msamples\u001B[49m\u001B[43m,\u001B[49m\u001B[43m \u001B[49m\u001B[43mcollate_fn_map\u001B[49m\u001B[38;5;241;43m=\u001B[39;49m\u001B[43mcollate_fn_map\u001B[49m\u001B[43m)\u001B[49m\u001B[43m \u001B[49m\u001B[38;5;28;43;01mfor\u001B[39;49;00m\u001B[43m \u001B[49m\u001B[43msamples\u001B[49m\u001B[43m \u001B[49m\u001B[38;5;129;43;01min\u001B[39;49;00m\u001B[43m \u001B[49m\u001B[43mtransposed\u001B[49m\u001B[43m]\u001B[49m  \u001B[38;5;66;03m# Backwards compatibility.\u001B[39;00m\n\u001B[0;32m    174\u001B[0m \u001B[38;5;28;01melse\u001B[39;00m:\n\u001B[0;32m    175\u001B[0m     \u001B[38;5;28;01mtry\u001B[39;00m:\n",
      "File \u001B[1;32m~\\miniconda3\\envs\\chess_pytorch_ai\\Lib\\site-packages\\torch\\utils\\data\\_utils\\collate.py:173\u001B[0m, in \u001B[0;36m<listcomp>\u001B[1;34m(.0)\u001B[0m\n\u001B[0;32m    170\u001B[0m transposed \u001B[38;5;241m=\u001B[39m \u001B[38;5;28mlist\u001B[39m(\u001B[38;5;28mzip\u001B[39m(\u001B[38;5;241m*\u001B[39mbatch))  \u001B[38;5;66;03m# It may be accessed twice, so we use a list.\u001B[39;00m\n\u001B[0;32m    172\u001B[0m \u001B[38;5;28;01mif\u001B[39;00m \u001B[38;5;28misinstance\u001B[39m(elem, \u001B[38;5;28mtuple\u001B[39m):\n\u001B[1;32m--> 173\u001B[0m     \u001B[38;5;28;01mreturn\u001B[39;00m [\u001B[43mcollate\u001B[49m\u001B[43m(\u001B[49m\u001B[43msamples\u001B[49m\u001B[43m,\u001B[49m\u001B[43m \u001B[49m\u001B[43mcollate_fn_map\u001B[49m\u001B[38;5;241;43m=\u001B[39;49m\u001B[43mcollate_fn_map\u001B[49m\u001B[43m)\u001B[49m \u001B[38;5;28;01mfor\u001B[39;00m samples \u001B[38;5;129;01min\u001B[39;00m transposed]  \u001B[38;5;66;03m# Backwards compatibility.\u001B[39;00m\n\u001B[0;32m    174\u001B[0m \u001B[38;5;28;01melse\u001B[39;00m:\n\u001B[0;32m    175\u001B[0m     \u001B[38;5;28;01mtry\u001B[39;00m:\n",
      "File \u001B[1;32m~\\miniconda3\\envs\\chess_pytorch_ai\\Lib\\site-packages\\torch\\utils\\data\\_utils\\collate.py:141\u001B[0m, in \u001B[0;36mcollate\u001B[1;34m(batch, collate_fn_map)\u001B[0m\n\u001B[0;32m    139\u001B[0m \u001B[38;5;28;01mif\u001B[39;00m collate_fn_map \u001B[38;5;129;01mis\u001B[39;00m \u001B[38;5;129;01mnot\u001B[39;00m \u001B[38;5;28;01mNone\u001B[39;00m:\n\u001B[0;32m    140\u001B[0m     \u001B[38;5;28;01mif\u001B[39;00m elem_type \u001B[38;5;129;01min\u001B[39;00m collate_fn_map:\n\u001B[1;32m--> 141\u001B[0m         \u001B[38;5;28;01mreturn\u001B[39;00m \u001B[43mcollate_fn_map\u001B[49m\u001B[43m[\u001B[49m\u001B[43melem_type\u001B[49m\u001B[43m]\u001B[49m\u001B[43m(\u001B[49m\u001B[43mbatch\u001B[49m\u001B[43m,\u001B[49m\u001B[43m \u001B[49m\u001B[43mcollate_fn_map\u001B[49m\u001B[38;5;241;43m=\u001B[39;49m\u001B[43mcollate_fn_map\u001B[49m\u001B[43m)\u001B[49m\n\u001B[0;32m    143\u001B[0m     \u001B[38;5;28;01mfor\u001B[39;00m collate_type \u001B[38;5;129;01min\u001B[39;00m collate_fn_map:\n\u001B[0;32m    144\u001B[0m         \u001B[38;5;28;01mif\u001B[39;00m \u001B[38;5;28misinstance\u001B[39m(elem, collate_type):\n",
      "File \u001B[1;32m~\\miniconda3\\envs\\chess_pytorch_ai\\Lib\\site-packages\\torch\\utils\\data\\_utils\\collate.py:213\u001B[0m, in \u001B[0;36mcollate_tensor_fn\u001B[1;34m(batch, collate_fn_map)\u001B[0m\n\u001B[0;32m    211\u001B[0m     storage \u001B[38;5;241m=\u001B[39m elem\u001B[38;5;241m.\u001B[39m_typed_storage()\u001B[38;5;241m.\u001B[39m_new_shared(numel, device\u001B[38;5;241m=\u001B[39melem\u001B[38;5;241m.\u001B[39mdevice)\n\u001B[0;32m    212\u001B[0m     out \u001B[38;5;241m=\u001B[39m elem\u001B[38;5;241m.\u001B[39mnew(storage)\u001B[38;5;241m.\u001B[39mresize_(\u001B[38;5;28mlen\u001B[39m(batch), \u001B[38;5;241m*\u001B[39m\u001B[38;5;28mlist\u001B[39m(elem\u001B[38;5;241m.\u001B[39msize()))\n\u001B[1;32m--> 213\u001B[0m \u001B[38;5;28;01mreturn\u001B[39;00m \u001B[43mtorch\u001B[49m\u001B[38;5;241;43m.\u001B[39;49m\u001B[43mstack\u001B[49m\u001B[43m(\u001B[49m\u001B[43mbatch\u001B[49m\u001B[43m,\u001B[49m\u001B[43m \u001B[49m\u001B[38;5;241;43m0\u001B[39;49m\u001B[43m,\u001B[49m\u001B[43m \u001B[49m\u001B[43mout\u001B[49m\u001B[38;5;241;43m=\u001B[39;49m\u001B[43mout\u001B[49m\u001B[43m)\u001B[49m\n",
      "\u001B[1;31mKeyboardInterrupt\u001B[0m: "
     ]
    }
   ],
   "execution_count": 17
  },
  {
   "metadata": {
    "ExecuteTime": {
     "end_time": "2024-06-20T11:41:27.728173Z",
     "start_time": "2024-06-20T11:41:27.644903Z"
    }
   },
   "cell_type": "code",
   "source": [
    "from src import MODEL_PATH\n",
    "\n",
    "path = MODEL_PATH / 'model_12.pth'\n",
    "dict_model = torch.load(path, map_location='cuda')\n",
    "model = ChessModel().to(device)\n",
    "model.load_state_dict(dict_model)\n",
    "\n",
    "\n",
    "def analys_model(fen: str):\n",
    "    fen_array = tokenize_fen(fen)\n",
    "    fen_tensor = torch.tensor(fen_array, dtype=torch.float32).view(1, -1).to(device)\n",
    "    prediction = model(fen_tensor).argmax().item()\n",
    "\n",
    "    print(f\"Prédiction du modèle: {prediction:.2f}\")\n",
    "    print()\n",
    "\n",
    "\n",
    "list_fen = [\n",
    "    \"rnbqkbnr/pppppppp/8/8/8/8/PPPPPPPP/RNBQKBNR w KQkq - 0 1\",  # Position de base\n",
    "    \"r1bqkb1r/pppp1ppp/2n2n2/4p2Q/2B1P3/8/PPPP1PPP/RNB1K1NR w KQkq - 4 4\",  # Mat berger, Mat en 1 pour blanc\n",
    "    \"4k3/pppppppp/8/8/8/8/PPPPPPPP/RNBQKBNR w KQ - 0 1\",  # Noir n'ont qu'un roi\n",
    "    \"rnbqkbnr/pppppppp/8/8/8/8/PPPPPPPP/4K3 w kq - 0 1\",  # Blanc n'ont qu'un roi\n",
    "    \"r3rbk1/p4ppp/8/2Nqp3/1p1P2b1/1P3N2/P2P1PPP/2RQR1K1 w - - 1 21\"  # Position égale éloignée GMI (reputé légèrement favorable noir)\n",
    "]\n",
    "\n",
    "for fen in list_fen:\n",
    "    analys_model(fen)"
   ],
   "id": "576ca51824bc377d",
   "outputs": [
    {
     "name": "stdout",
     "output_type": "stream",
     "text": [
      "Prédiction du modèle: 0.00\n",
      "\n",
      "Prédiction du modèle: 0.00\n",
      "\n",
      "Prédiction du modèle: 1.00\n",
      "\n",
      "Prédiction du modèle: 0.00\n",
      "\n",
      "Prédiction du modèle: 1.00\n",
      "\n"
     ]
    }
   ],
   "execution_count": 18
  },
  {
   "metadata": {},
   "cell_type": "code",
   "source": "",
   "id": "54f2a2c5b1a8e145",
   "outputs": [],
   "execution_count": null
  }
 ],
 "metadata": {
  "kernelspec": {
   "display_name": "Python 3",
   "language": "python",
   "name": "python3"
  },
  "language_info": {
   "codemirror_mode": {
    "name": "ipython",
    "version": 2
   },
   "file_extension": ".py",
   "mimetype": "text/x-python",
   "name": "python",
   "nbconvert_exporter": "python",
   "pygments_lexer": "ipython2",
   "version": "2.7.6"
  }
 },
 "nbformat": 4,
 "nbformat_minor": 5
}
